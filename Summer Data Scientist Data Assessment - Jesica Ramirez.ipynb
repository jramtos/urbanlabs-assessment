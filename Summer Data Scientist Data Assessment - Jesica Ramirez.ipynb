{
 "cells": [
  {
   "cell_type": "markdown",
   "metadata": {},
   "source": [
    "# Summer Data Scientist Data Assessment\n",
    "## Crime and Education Lab New York\n",
    "### Jesica Maria Ramirez Toscano"
   ]
  },
  {
   "cell_type": "markdown",
   "metadata": {},
   "source": [
    "### *Part 1: Variable Creation*"
   ]
  },
  {
   "cell_type": "code",
   "execution_count": 5,
   "metadata": {},
   "outputs": [],
   "source": [
    "import pandas as pd\n",
    "import numpy as np\n",
    "arrests = pd.read_csv('arrests.csv')\n",
    "demo = pd.read_csv('demo.csv')\n",
    "demo['bdate'] = pd.to_datetime(demo['bdate'], utc=False)\n",
    "arrests['arrest_date'] = pd.to_datetime(arrests['arrest_date'], utc=False)"
   ]
  },
  {
   "cell_type": "markdown",
   "metadata": {},
   "source": [
    "1. We filter the arrest to the ones that occurred post-implementation.  \n",
    "2. Since we need information about past arrests and potential felony re-arrests, we merge the post-arrests with the total arrests by person_id. So each arrest will be linked to a post-arrest of the same individual.\n",
    "> Note: **arrest_post** refers to the data of arrests post-implementation.  **tr** refers to the merged data of arrests_post with the all of the arrests. So each arrest in this data set is linked to a post-arrest of the same individual. "
   ]
  },
  {
   "cell_type": "code",
   "execution_count": 11,
   "metadata": {},
   "outputs": [],
   "source": [
    "arrests_post = arrests[arrests['arrest_date'] >= '2010-01-01'].copy()\n",
    "tr = pd.merge(arrests,\n",
    "              arrests_post.rename(columns={'arrest_date':'date_post', \n",
    "                                            'arrest_id':'aid_post', \n",
    "                                            'law_code':'code_post'}), \n",
    "              on='person_id')"
   ]
  },
  {
   "cell_type": "markdown",
   "metadata": {},
   "source": [
    "3. We create different tables to obtain the number of prior misdemeanor arrests and felony arrests in the last 2 years and 6 months."
   ]
  },
  {
   "cell_type": "code",
   "execution_count": 12,
   "metadata": {},
   "outputs": [],
   "source": [
    "twoyear = tr[(tr['arrest_date'] >= tr['date_post']-pd.DateOffset(years=2)) & (tr['arrest_id'] != tr['aid_post'])]\n",
    "sixmonth = tr[(tr['arrest_date'] >= tr['date_post'] - pd.DateOffset(months=6)) & (tr['arrest_id'] != tr['aid_post'])]\n",
    "twoyear =  twoyear.groupby(['aid_post', 'law_code']).size().unstack().reset_index().fillna(0)\n",
    "twoyear.rename(columns = {'aid_post':'arrest_id', 'felony': 'fel_2y', 'misdemeanor': 'mis_2y'}, inplace=True)\n",
    "sixmonth = sixmonth.groupby(['aid_post', 'law_code']).size().unstack().reset_index().fillna(0)\n",
    "sixmonth.rename(columns = {'aid_post':'arrest_id', 'felony': 'fel_6m', 'misdemeanor': 'mis_6m'}, inplace=True)"
   ]
  },
  {
   "cell_type": "markdown",
   "metadata": {},
   "source": [
    ">So for the table **twoyear**, we have the post_arrests variable with the number of prior arrests of felony and misdemeanor in the last two years."
   ]
  },
  {
   "cell_type": "code",
   "execution_count": 9,
   "metadata": {},
   "outputs": [
    {
     "data": {
      "text/html": [
       "<div>\n",
       "<style scoped>\n",
       "    .dataframe tbody tr th:only-of-type {\n",
       "        vertical-align: middle;\n",
       "    }\n",
       "\n",
       "    .dataframe tbody tr th {\n",
       "        vertical-align: top;\n",
       "    }\n",
       "\n",
       "    .dataframe thead th {\n",
       "        text-align: right;\n",
       "    }\n",
       "</style>\n",
       "<table border=\"1\" class=\"dataframe\">\n",
       "  <thead>\n",
       "    <tr style=\"text-align: right;\">\n",
       "      <th>law_code</th>\n",
       "      <th>arrest_id</th>\n",
       "      <th>fel_2y</th>\n",
       "      <th>mis_2y</th>\n",
       "    </tr>\n",
       "  </thead>\n",
       "  <tbody>\n",
       "    <tr>\n",
       "      <th>0</th>\n",
       "      <td>000192be</td>\n",
       "      <td>0.0</td>\n",
       "      <td>1.0</td>\n",
       "    </tr>\n",
       "    <tr>\n",
       "      <th>1</th>\n",
       "      <td>000316a6</td>\n",
       "      <td>1.0</td>\n",
       "      <td>3.0</td>\n",
       "    </tr>\n",
       "    <tr>\n",
       "      <th>2</th>\n",
       "      <td>0005e711</td>\n",
       "      <td>1.0</td>\n",
       "      <td>3.0</td>\n",
       "    </tr>\n",
       "    <tr>\n",
       "      <th>3</th>\n",
       "      <td>000fca1a</td>\n",
       "      <td>1.0</td>\n",
       "      <td>3.0</td>\n",
       "    </tr>\n",
       "    <tr>\n",
       "      <th>4</th>\n",
       "      <td>00102ecf</td>\n",
       "      <td>0.0</td>\n",
       "      <td>3.0</td>\n",
       "    </tr>\n",
       "    <tr>\n",
       "      <th>...</th>\n",
       "      <td>...</td>\n",
       "      <td>...</td>\n",
       "      <td>...</td>\n",
       "    </tr>\n",
       "    <tr>\n",
       "      <th>19068</th>\n",
       "      <td>fff23454</td>\n",
       "      <td>1.0</td>\n",
       "      <td>4.0</td>\n",
       "    </tr>\n",
       "    <tr>\n",
       "      <th>19069</th>\n",
       "      <td>fff2c58f</td>\n",
       "      <td>0.0</td>\n",
       "      <td>3.0</td>\n",
       "    </tr>\n",
       "    <tr>\n",
       "      <th>19070</th>\n",
       "      <td>fff4f37a</td>\n",
       "      <td>1.0</td>\n",
       "      <td>0.0</td>\n",
       "    </tr>\n",
       "    <tr>\n",
       "      <th>19071</th>\n",
       "      <td>fff50975</td>\n",
       "      <td>1.0</td>\n",
       "      <td>0.0</td>\n",
       "    </tr>\n",
       "    <tr>\n",
       "      <th>19072</th>\n",
       "      <td>fffdd268</td>\n",
       "      <td>1.0</td>\n",
       "      <td>1.0</td>\n",
       "    </tr>\n",
       "  </tbody>\n",
       "</table>\n",
       "<p>19073 rows × 3 columns</p>\n",
       "</div>"
      ],
      "text/plain": [
       "law_code arrest_id  fel_2y  mis_2y\n",
       "0         000192be     0.0     1.0\n",
       "1         000316a6     1.0     3.0\n",
       "2         0005e711     1.0     3.0\n",
       "3         000fca1a     1.0     3.0\n",
       "4         00102ecf     0.0     3.0\n",
       "...            ...     ...     ...\n",
       "19068     fff23454     1.0     4.0\n",
       "19069     fff2c58f     0.0     3.0\n",
       "19070     fff4f37a     1.0     0.0\n",
       "19071     fff50975     1.0     0.0\n",
       "19072     fffdd268     1.0     1.0\n",
       "\n",
       "[19073 rows x 3 columns]"
      ]
     },
     "execution_count": 9,
     "metadata": {},
     "output_type": "execute_result"
    }
   ],
   "source": [
    "twoyear"
   ]
  },
  {
   "cell_type": "markdown",
   "metadata": {},
   "source": [
    "4. To create the felony re-arrest binary variable, we need information about the potential future felony arrest of that invidual. So first, we create a table called **year_ahead** using the **tr** dataset."
   ]
  },
  {
   "cell_type": "code",
   "execution_count": 20,
   "metadata": {},
   "outputs": [],
   "source": [
    "year_ahead = tr[(tr['arrest_date'] >= tr['date_post']) & (tr['arrest_id'] != tr['aid_post'])]\n",
    "year_ahead = year_ahead[year_ahead['arrest_date'] <= year_ahead['date_post'] + pd.DateOffset(years=1)]\n",
    "year_ahead = year_ahead.groupby(['aid_post', 'law_code']).size().unstack().reset_index().fillna(0)\n",
    "year_ahead.rename(columns = {'aid_post':'arrest_id', 'felony': 'felony-' }, inplace=True)"
   ]
  },
  {
   "cell_type": "code",
   "execution_count": 21,
   "metadata": {},
   "outputs": [
    {
     "data": {
      "text/html": [
       "<div>\n",
       "<style scoped>\n",
       "    .dataframe tbody tr th:only-of-type {\n",
       "        vertical-align: middle;\n",
       "    }\n",
       "\n",
       "    .dataframe tbody tr th {\n",
       "        vertical-align: top;\n",
       "    }\n",
       "\n",
       "    .dataframe thead th {\n",
       "        text-align: right;\n",
       "    }\n",
       "</style>\n",
       "<table border=\"1\" class=\"dataframe\">\n",
       "  <thead>\n",
       "    <tr style=\"text-align: right;\">\n",
       "      <th>law_code</th>\n",
       "      <th>arrest_id</th>\n",
       "      <th>felony</th>\n",
       "    </tr>\n",
       "  </thead>\n",
       "  <tbody>\n",
       "    <tr>\n",
       "      <th>0</th>\n",
       "      <td>000192be</td>\n",
       "      <td>0.0</td>\n",
       "    </tr>\n",
       "    <tr>\n",
       "      <th>1</th>\n",
       "      <td>000fca1a</td>\n",
       "      <td>0.0</td>\n",
       "    </tr>\n",
       "    <tr>\n",
       "      <th>2</th>\n",
       "      <td>00102ecf</td>\n",
       "      <td>0.0</td>\n",
       "    </tr>\n",
       "    <tr>\n",
       "      <th>3</th>\n",
       "      <td>001a4d40</td>\n",
       "      <td>0.0</td>\n",
       "    </tr>\n",
       "    <tr>\n",
       "      <th>4</th>\n",
       "      <td>002183f7</td>\n",
       "      <td>0.0</td>\n",
       "    </tr>\n",
       "    <tr>\n",
       "      <th>...</th>\n",
       "      <td>...</td>\n",
       "      <td>...</td>\n",
       "    </tr>\n",
       "    <tr>\n",
       "      <th>8975</th>\n",
       "      <td>ffd580fe</td>\n",
       "      <td>0.0</td>\n",
       "    </tr>\n",
       "    <tr>\n",
       "      <th>8976</th>\n",
       "      <td>ffe20b13</td>\n",
       "      <td>1.0</td>\n",
       "    </tr>\n",
       "    <tr>\n",
       "      <th>8977</th>\n",
       "      <td>fff23454</td>\n",
       "      <td>0.0</td>\n",
       "    </tr>\n",
       "    <tr>\n",
       "      <th>8978</th>\n",
       "      <td>fff2c58f</td>\n",
       "      <td>0.0</td>\n",
       "    </tr>\n",
       "    <tr>\n",
       "      <th>8979</th>\n",
       "      <td>fffdd268</td>\n",
       "      <td>0.0</td>\n",
       "    </tr>\n",
       "  </tbody>\n",
       "</table>\n",
       "<p>8980 rows × 2 columns</p>\n",
       "</div>"
      ],
      "text/plain": [
       "law_code arrest_id  felony\n",
       "0         000192be     0.0\n",
       "1         000fca1a     0.0\n",
       "2         00102ecf     0.0\n",
       "3         001a4d40     0.0\n",
       "4         002183f7     0.0\n",
       "...            ...     ...\n",
       "8975      ffd580fe     0.0\n",
       "8976      ffe20b13     1.0\n",
       "8977      fff23454     0.0\n",
       "8978      fff2c58f     0.0\n",
       "8979      fffdd268     0.0\n",
       "\n",
       "[8980 rows x 2 columns]"
      ]
     },
     "execution_count": 21,
     "metadata": {},
     "output_type": "execute_result"
    }
   ],
   "source": [
    "year_ahead[['arrest_id', 'felony']]"
   ]
  },
  {
   "cell_type": "markdown",
   "metadata": {},
   "source": [
    ">With this table, we can create a binary variable of re_arrest (1 if the individual has one or more felony arrests during a one-year period following the arrest, 0 if the individual has no felony re-arrest)"
   ]
  },
  {
   "cell_type": "code",
   "execution_count": 16,
   "metadata": {},
   "outputs": [],
   "source": [
    "year_ahead['re_arrest'] = np.where(year_ahead['felony'] > 0,1,0)"
   ]
  },
  {
   "cell_type": "code",
   "execution_count": null,
   "metadata": {},
   "outputs": [],
   "source": []
  }
 ],
 "metadata": {
  "kernelspec": {
   "display_name": "Python 3",
   "language": "python",
   "name": "python3"
  },
  "language_info": {
   "codemirror_mode": {
    "name": "ipython",
    "version": 3
   },
   "file_extension": ".py",
   "mimetype": "text/x-python",
   "name": "python",
   "nbconvert_exporter": "python",
   "pygments_lexer": "ipython3",
   "version": "3.8.1"
  }
 },
 "nbformat": 4,
 "nbformat_minor": 4
}
